{
 "cells": [
  {
   "cell_type": "markdown",
   "id": "9b172d1d-7b3f-4f14-97e2-d4650704fe83",
   "metadata": {},
   "source": [
    "# Import Necessary Libraries"
   ]
  },
  {
   "cell_type": "code",
   "execution_count": 58,
   "id": "fd8e8876-97e7-4652-8f8d-45ad1dcc71db",
   "metadata": {},
   "outputs": [],
   "source": [
    "import pandas as pd\n",
    "import os\n",
    "import numpy as np\n",
    "import matplotlib.pyplot as plt\n",
    "from scipy.signal import butter, filtfilt\n",
    "import tensorflow as tf\n",
    "from tensorflow.keras.models import Sequential\n",
    "from tensorflow.keras.layers import Conv1D, MaxPooling1D, Flatten, Dense\n",
    "from sklearn.model_selection import train_test_split\n",
    "from sklearn.metrics import confusion_matrix, classification_report"
   ]
  },
  {
   "cell_type": "markdown",
   "id": "5801ac01-5a2a-48d4-a921-934698651308",
   "metadata": {},
   "source": [
    "# Step 1: Data Collection"
   ]
  },
  {
   "cell_type": "code",
   "execution_count": 102,
   "id": "51cd7b45-567b-4b50-a94c-b2fbe30a61d8",
   "metadata": {},
   "outputs": [
    {
     "name": "stdout",
     "output_type": "stream",
     "text": [
      "Columns in the ECG data: ['sample #', 'MLII', 'V5']\n",
      "Columns in the annotations data: ['Time   Sample #  Type  Sub Chan  Num', 'Aux']\n",
      "Step 1: Data Loaded\n",
      "Number of ECG files loaded: 48\n",
      "Number of annotation files loaded: 48\n",
      "   sample #  MLII    V5\n",
      "0         0   995  1011\n",
      "1         1   995  1011\n",
      "2         2   995  1011\n",
      "3         3   995  1011\n",
      "4         4   995  1011\n",
      "         Time   Sample #  Type  Sub Chan  Num  Aux\n",
      "0      0:00.050       18     +    0    0    0   (N\n",
      "1      0:00.214       77     N    0    0    0  NaN\n",
      "2      0:01.028      370     N    0    0    0  NaN\n",
      "3      0:01.839      662     N    0    0    0  NaN\n",
      "4      0:02.628      946     N    0    0    0  NaN\n"
     ]
    }
   ],
   "source": [
    "# Step 1: Data Loading\n",
    "dataset_path = r\"C:\\Users\\SunawarKhan\\JupyterNotebook\\HeartDiseaseDetection\\mitbih_database\"\n",
    "\n",
    "def load_single_file(file_path):\n",
    "    ecg_data = pd.read_csv(file_path + \".csv\")\n",
    "    ecg_data.columns = ecg_data.columns.str.strip().str.replace(\"'\", \"\")\n",
    "    annotations = pd.read_csv(file_path + \"annotations.txt\", sep='\\t')\n",
    "    annotations.columns = annotations.columns.str.strip().str.replace(\"'\", \"\")\n",
    "    return ecg_data, annotations\n",
    "\n",
    "first_file = os.path.join(dataset_path, \"100\")\n",
    "ecg_data, annotations = load_single_file(first_file)\n",
    "print(\"Columns in the ECG data:\", ecg_data.columns.tolist())\n",
    "print(\"Columns in the annotations data:\", annotations.columns.tolist())\n",
    "\n",
    "ecg_data_list = []\n",
    "annotations_list = []\n",
    "for file in os.listdir(dataset_path):\n",
    "    if file.endswith(\".csv\"):\n",
    "        base_filename = os.path.splitext(file)[0]\n",
    "        ecg_data, annotations = load_single_file(os.path.join(dataset_path, base_filename))\n",
    "        ecg_data_list.append(ecg_data)\n",
    "        annotations_list.append(annotations)\n",
    "\n",
    "print(\"Step 1: Data Loaded\")\n",
    "print(f\"Number of ECG files loaded: {len(ecg_data_list)}\")\n",
    "print(f\"Number of annotation files loaded: {len(annotations_list)}\")\n",
    "print(ecg_data_list[0].head())\n",
    "print(annotations_list[0].head())"
   ]
  },
  {
   "cell_type": "markdown",
   "id": "736529a6-22a4-4753-8881-60661c03bd38",
   "metadata": {},
   "source": [
    "# Step 2: Data Preprocessing"
   ]
  },
  {
   "cell_type": "code",
   "execution_count": 103,
   "id": "0bb2870c-718a-4eab-abdf-7d8a913da5e6",
   "metadata": {},
   "outputs": [
    {
     "name": "stdout",
     "output_type": "stream",
     "text": [
      "Using signal column: MLII\n",
      "Using signal column: MLII\n",
      "Using signal column: V5\n",
      "Using signal column: MLII\n",
      "Using signal column: V5\n",
      "Using signal column: MLII\n",
      "Using signal column: MLII\n",
      "Using signal column: MLII\n",
      "Using signal column: MLII\n",
      "Using signal column: MLII\n",
      "Using signal column: MLII\n",
      "Using signal column: MLII\n",
      "Using signal column: MLII\n",
      "Using signal column: MLII\n",
      "Using signal column: MLII\n",
      "Using signal column: MLII\n",
      "Using signal column: MLII\n",
      "Using signal column: MLII\n",
      "Using signal column: MLII\n",
      "Using signal column: MLII\n",
      "Using signal column: MLII\n",
      "Using signal column: MLII\n",
      "Using signal column: MLII\n",
      "Using signal column: MLII\n",
      "Using signal column: MLII\n",
      "Using signal column: MLII\n",
      "Using signal column: MLII\n",
      "Using signal column: MLII\n",
      "Using signal column: MLII\n",
      "Using signal column: MLII\n",
      "Using signal column: MLII\n",
      "Using signal column: MLII\n",
      "Using signal column: MLII\n",
      "Using signal column: MLII\n",
      "Using signal column: MLII\n",
      "Using signal column: MLII\n",
      "Using signal column: MLII\n",
      "Using signal column: MLII\n",
      "Using signal column: MLII\n",
      "Using signal column: MLII\n",
      "Using signal column: MLII\n",
      "Using signal column: MLII\n",
      "Using signal column: MLII\n",
      "Using signal column: MLII\n",
      "Using signal column: MLII\n",
      "Using signal column: MLII\n",
      "Using signal column: MLII\n",
      "Using signal column: MLII\n",
      "Step 2: Data Preprocessed\n",
      "   sample #      MLII    V5\n",
      "0         0  0.000972  1011\n",
      "1         1  0.001048  1011\n",
      "2         2  0.001091  1011\n",
      "3         3  0.001163  1011\n",
      "4         4  0.001425  1011\n"
     ]
    }
   ],
   "source": [
    "# Step 2: Data Preprocessing with Missing Data Handling\n",
    "def normalize_signal(signal):\n",
    "    return (signal - np.min(signal)) / (np.max(signal) - np.min(signal))\n",
    "\n",
    "def bandpass_filter(signal, lowcut=0.5, highcut=50, fs=360, order=5):\n",
    "    nyquist = 0.5 * fs\n",
    "    low = lowcut / nyquist\n",
    "    high = highcut / nyquist\n",
    "    b, a = butter(order, [low, high], btype='band')\n",
    "    return filtfilt(b, a, signal)\n",
    "\n",
    "def handle_missing_data(ecg_data, signal_column):\n",
    "    if ecg_data[signal_column].isnull().any():\n",
    "        median_value = ecg_data[signal_column].median()\n",
    "        ecg_data[signal_column].fillna(median_value, inplace=True)\n",
    "    return ecg_data\n",
    "\n",
    "def preprocess_ecg(ecg_data, signal_column):\n",
    "    if signal_column not in ecg_data.columns:\n",
    "        raise KeyError(f\"Column '{signal_column}' not found in the data. Available columns: {ecg_data.columns.tolist()}\")\n",
    "    ecg_data = handle_missing_data(ecg_data, signal_column)\n",
    "    ecg_data[signal_column] = normalize_signal(ecg_data[signal_column])\n",
    "    ecg_data[signal_column] = bandpass_filter(ecg_data[signal_column])\n",
    "    return ecg_data\n",
    "\n",
    "def get_signal_column(ecg_data):\n",
    "    for col in ['MLII', 'V1', 'V5', 'V2']:\n",
    "        if col in ecg_data.columns:\n",
    "            return col\n",
    "    raise KeyError(f\"No valid signal column found in the data. Available columns: {ecg_data.columns.tolist()}\")\n",
    "\n",
    "preprocessed_ecg_list = []\n",
    "for ecg_data in ecg_data_list:\n",
    "    try:\n",
    "        signal_column = get_signal_column(ecg_data)\n",
    "        print(f\"Using signal column: {signal_column}\")\n",
    "        preprocessed_ecg_list.append(preprocess_ecg(ecg_data, signal_column))\n",
    "    except KeyError as e:\n",
    "        print(e)\n",
    "\n",
    "print(\"Step 2: Data Preprocessed\")\n",
    "print(preprocessed_ecg_list[0].head())"
   ]
  },
  {
   "cell_type": "markdown",
   "id": "7e713df5-06e1-43f3-87a7-3f076417cce5",
   "metadata": {},
   "source": [
    "# Step 3: Data Segmentation"
   ]
  },
  {
   "cell_type": "code",
   "execution_count": 107,
   "id": "84a49437-df52-46ce-88c6-43612c2394d3",
   "metadata": {},
   "outputs": [
    {
     "name": "stdout",
     "output_type": "stream",
     "text": [
      "Number of segment groups: 48\n",
      "Number of label groups: 48\n",
      "Number of non-empty segment groups: 48\n",
      "Number of non-empty label groups: 48\n",
      "Step 3: Data Segmented\n",
      "Total number of segments: 112647\n",
      "Total number of labels: 112647\n"
     ]
    },
    {
     "data": {
      "image/png": "[encoded data removed]",
      "text/plain": [
       "<Figure size 640x480 with 1 Axes>"
      ]
     },
     "metadata": {},
     "output_type": "display_data"
    },
    {
     "name": "stdout",
     "output_type": "stream",
     "text": [
      "X (segments) dtype: float64\n",
      "y (labels) dtype: object\n",
      "First few y (labels): ['    0:00.050       18     +    0    0    0'\n",
      " '    0:00.214       77     N    0    0    0'\n",
      " '    0:01.028      370     N    0    0    0'\n",
      " '    0:01.839      662     N    0    0    0'\n",
      " '    0:02.628      946     N    0    0    0'\n",
      " '    0:03.419     1231     N    0    0    0'\n",
      " '    0:04.208     1515     N    0    0    0'\n",
      " '    0:05.025     1809     N    0    0    0'\n",
      " '    0:05.678     2044     A    0    0    0'\n",
      " '    0:06.672     2402     N    0    0    0']\n",
      "Total number of segments after cleaning: 0\n",
      "Total number of labels after cleaning: 0\n",
      "Unique labels in y: []\n"
     ]
    }
   ],
   "source": [
    "# Step 3: Data Segmentation with Correct Alignment and Data Cleaning\n",
    "def segment_ecg(signal, window_size=360, step_size=180):\n",
    "    segments = []\n",
    "    for start in range(0, len(signal) - window_size, step_size):\n",
    "        end = start + window_size\n",
    "        segment = signal[start:end]\n",
    "        segments.append(segment)\n",
    "    return np.array(segments)\n",
    "\n",
    "all_segments = []\n",
    "segment_labels = []\n",
    "for ecg_data, annotations in zip(preprocessed_ecg_list, annotations_list):\n",
    "    signal_column = get_signal_column(ecg_data)\n",
    "    segments = segment_ecg(ecg_data[signal_column].values)\n",
    "    all_segments.append(segments)\n",
    "    \n",
    "    # Align annotations with segments\n",
    "    annotation_column = 'Type'\n",
    "    if annotation_column not in annotations.columns:\n",
    "        annotation_column = [col for col in annotations.columns if 'Type' in col][0]\n",
    "\n",
    "    num_segments = len(segments)\n",
    "    labels = annotations[annotation_column].values[:num_segments]\n",
    "    segment_labels.append(labels)\n",
    "\n",
    "# Debug: Print lengths of segments and labels before concatenation\n",
    "print(f\"Number of segment groups: {len(all_segments)}\")\n",
    "print(f\"Number of label groups: {len(segment_labels)}\")\n",
    "\n",
    "# Ensure that all segment and label groups have data\n",
    "all_segments = [seg for seg in all_segments if len(seg) > 0]\n",
    "segment_labels = [lbl for lbl in segment_labels if len(lbl) > 0]\n",
    "\n",
    "# Debug: Print lengths after filtering\n",
    "print(f\"Number of non-empty segment groups: {len(all_segments)}\")\n",
    "print(f\"Number of non-empty label groups: {len(segment_labels)}\")\n",
    "\n",
    "all_segments = np.concatenate(all_segments, axis=0)\n",
    "segment_labels = np.concatenate(segment_labels, axis=0)\n",
    "\n",
    "# Ensure that the number of segments matches the number of labels\n",
    "min_len = min(len(all_segments), len(segment_labels))\n",
    "all_segments = all_segments[:min_len]\n",
    "segment_labels = segment_labels[:min_len]\n",
    "\n",
    "print(\"Step 3: Data Segmented\")\n",
    "print(\"Total number of segments:\", len(all_segments))\n",
    "print(\"Total number of labels:\", len(segment_labels))\n",
    "\n",
    "plt.plot(all_segments[0])\n",
    "plt.title('Sample ECG Segment')\n",
    "plt.show()\n",
    "\n",
    "# Verify data types and contents\n",
    "print(\"X (segments) dtype:\", all_segments.dtype)\n",
    "print(\"y (labels) dtype:\", segment_labels.dtype)\n",
    "print(\"First few y (labels):\", segment_labels[:10])\n",
    "\n",
    "# Ensure all labels are numeric\n",
    "segment_labels = pd.to_numeric(segment_labels, errors='coerce')\n",
    "segment_labels = segment_labels[~np.isnan(segment_labels)].astype(int)\n",
    "\n",
    "# Ensure all segments are of correct shape\n",
    "all_segments = all_segments[:len(segment_labels)]\n",
    "\n",
    "print(\"Total number of segments after cleaning:\", len(all_segments))\n",
    "print(\"Total number of labels after cleaning:\", len(segment_labels))\n",
    "\n",
    "# Debug: Check if there are any remaining non-numeric values in y\n",
    "print(\"Unique labels in y:\", np.unique(segment_labels))"
   ]
  },
  {
   "cell_type": "markdown",
   "id": "782078fa-87e9-4c02-bab9-12ebb5b8f6a5",
   "metadata": {},
   "source": [
    "# Step 4: Model Design - Classical CNN"
   ]
  },
  {
   "cell_type": "code",
   "execution_count": 108,
   "id": "959bf9e7-e348-4d07-9444-0b50d7d70984",
   "metadata": {},
   "outputs": [
    {
     "name": "stdout",
     "output_type": "stream",
     "text": [
      "Step 4: Model Created\n",
      "Model: \"sequential_12\"\n",
      "_________________________________________________________________\n",
      " Layer (type)                Output Shape              Param #   \n",
      "=================================================================\n",
      " conv1d_24 (Conv1D)          (None, 358, 32)           128       \n",
      "                                                                 \n",
      " max_pooling1d_24 (MaxPooli  (None, 179, 32)           0         \n",
      " ng1D)                                                           \n",
      "                                                                 \n",
      " conv1d_25 (Conv1D)          (None, 177, 64)           6208      \n",
      "                                                                 \n",
      " max_pooling1d_25 (MaxPooli  (None, 88, 64)            0         \n",
      " ng1D)                                                           \n",
      "                                                                 \n",
      " flatten_12 (Flatten)        (None, 5632)              0         \n",
      "                                                                 \n",
      " dense_24 (Dense)            (None, 128)               721024    \n",
      "                                                                 \n",
      " dense_25 (Dense)            (None, 2)                 258       \n",
      "                                                                 \n",
      "=================================================================\n",
      "Total params: 727618 (2.78 MB)\n",
      "Trainable params: 727618 (2.78 MB)\n",
      "Non-trainable params: 0 (0.00 Byte)\n",
      "_________________________________________________________________\n"
     ]
    }
   ],
   "source": [
    "# Step 4: Model Design - Classical CNN\n",
    "def create_cnn_model(input_shape):\n",
    "    model = Sequential([\n",
    "        Conv1D(32, kernel_size=3, activation='relu', input_shape=input_shape),\n",
    "        MaxPooling1D(pool_size=2),\n",
    "        Conv1D(64, kernel_size=3, activation='relu'),\n",
    "        MaxPooling1D(pool_size=2),\n",
    "        Flatten(),\n",
    "        Dense(128, activation='relu'),\n",
    "        Dense(2, activation='softmax')\n",
    "    ])\n",
    "    model.compile(optimizer='adam', loss='sparse_categorical_crossentropy', metrics=['accuracy'])\n",
    "    return model\n",
    "\n",
    "input_shape = (all_segments.shape[1], 1)\n",
    "model = create_cnn_model(input_shape)\n",
    "print(\"Step 4: Model Created\")\n",
    "model.summary()"
   ]
  },
  {
   "cell_type": "markdown",
   "id": "431eb320-8828-4283-8e9f-4881379974c2",
   "metadata": {},
   "source": [
    "# Step 5: Training and Validation - Classical CNN"
   ]
  },
  {
   "cell_type": "code",
   "execution_count": null,
   "id": "d54fb26e-795b-49e1-9923-4af62f331045",
   "metadata": {},
   "outputs": [],
   "source": [
    "# Step 5: Training and Validation - Classical CNN\n",
    "# Reshape segments for the CNN model\n",
    "X = all_segments.reshape((all_segments.shape[0], all_segments.shape[1], 1))\n",
    "y = segment_labels\n",
    "\n",
    "# Check if there are enough samples\n",
    "if len(X) == 0 or len(y) == 0:\n",
    "    raise ValueError(\"No samples available for training and validation.\")\n",
    "\n",
    "# Ensure all data in X and y are numeric\n",
    "X = np.array(X).astype(np.float32)\n",
    "y = np.array(y).astype(np.int32)\n",
    "\n",
    "# Check for any remaining non-numeric values in y\n",
    "if not np.issubdtype(y.dtype, np.integer):\n",
    "    raise ValueError(f\"Non-numeric values found in y: {y}\")\n",
    "\n",
    "# Print shapes of X and y to debug\n",
    "print(f\"Shape of X: {X.shape}\")\n",
    "print(f\"Shape of y: {y.shape}\")\n",
    "\n",
    "# Split the data into training and validation sets\n",
    "X_train, X_val, y_train, y_val = train_test_split(X, y, test_size=0.2, random_state=42)\n",
    "\n",
    "# Train the model\n",
    "history = model.fit(X_train, y_train, epochs=10, validation_data=(X_val, y_val), batch_size=32)\n",
    "print(\"Step 5: Model Trained\")\n",
    "print(\"Training Accuracy:\", history.history['accuracy'][-1])\n",
    "print(\"Validation Accuracy:\", history.history['val_accuracy'][-1])\n",
    "\n",
    "# Plot training & validation accuracy values\n",
    "plt.figure(figsize=(12, 4))\n",
    "\n",
    "plt.subplot(1, 2, 1)\n",
    "plt.plot(history.history['accuracy'])\n",
    "plt.plot(history.history['val_accuracy'])\n",
    "plt.title('Model Accuracy')\n",
    "plt.xlabel('Epoch')\n",
    "plt.ylabel('Accuracy')\n",
    "plt.legend(['Train', 'Validation'], loc='upper left')\n",
    "\n",
    "# Plot training & validation loss values\n",
    "plt.subplot(1, 2, 2)\n",
    "plt.plot(history.history['loss'])\n",
    "plt.plot(history.history)"
   ]
  },
  {
   "cell_type": "markdown",
   "id": "06e17234-e132-4f9a-b3b8-35499cc0e19e",
   "metadata": {},
   "source": [
    "# Step 6: Evaluation and Results - Classical CNN"
   ]
  },
  {
   "cell_type": "code",
   "execution_count": null,
   "id": "50e60f57-3d16-4098-bcfb-23c8d5728157",
   "metadata": {},
   "outputs": [],
   "source": [
    "# Step 6: Evaluation and Results - Classical CNN\n",
    "y_pred = model.predict(X_val).argmax(axis=1)\n",
    "conf_matrix = confusion_matrix(y_val, y_pred)\n",
    "class_report = classification_report(y_val, y_pred)\n",
    "\n",
    "print(\"Step 6: Model Evaluation\")\n",
    "print(\"Confusion Matrix:\\n\", conf_matrix)\n",
    "print(\"Classification Report:\\n\", class_report)"
   ]
  },
  {
   "cell_type": "markdown",
   "id": "43c8e59a-5a31-4025-927b-d5b8d401b360",
   "metadata": {},
   "source": [
    "# Step 7: Quantum Classifier Design"
   ]
  },
  {
   "cell_type": "code",
   "execution_count": null,
   "id": "3ddc842d-c1e0-491a-87cc-04e349933ce9",
   "metadata": {},
   "outputs": [],
   "source": [
    "import pennylane as qml\n",
    "from pennylane.optimize import AdamOptimizer\n",
    "\n",
    "# Define quantum device\n",
    "n_qubits = 4\n",
    "dev = qml.device('default.qubit', wires=n_qubits)\n",
    "\n",
    "# Quantum circuit ansatz\n",
    "def quantum_circuit(weights, x):\n",
    "    qml.templates.AngleEmbedding(x, wires=range(n_qubits))\n",
    "    qml.templates.StronglyEntanglingLayers(weights, wires=range(n_qubits))\n",
    "    return [qml.expval(qml.PauliZ(i)) for i in range(n_qubits)]\n",
    "\n",
    "# Quantum node\n",
    "weight_shapes = {\"weights\": (3, n_qubits, 3)}\n",
    "qml_circuit = qml.QNode(quantum_circuit, dev, interface=\"tf\")\n",
    "\n",
    "# Quantum classifier model\n",
    "def quantum_model(weights, x):\n",
    "    return qml_circuit(weights, x)\n",
    "\n",
    "# Define hybrid quantum-classical model\n",
    "class QuantumNN(tf.keras.Model):\n",
    "    def __init__(self):\n",
    "        super(QuantumNN, self).__init__()\n",
    "        self.dense1 = tf.keras.layers.Dense(8)\n",
    "        self.dense2 = tf.keras.layers.Dense(4)\n",
    "        self.quantum_layer = qml.qnn.KerasLayer(qml_circuit, weight_shapes, output_dim=n_qubits)\n",
    "        self.dense3 = tf.keras.layers.Dense(2, activation='softmax')\n",
    "    \n",
    "    def call(self, inputs):\n",
    "        x = self.dense1(inputs)\n",
    "        x = self.dense2(x)\n",
    "        x = self.quantum_layer(x)\n",
    "        return self.dense3(x)\n",
    "\n",
    "# Create quantum-classical hybrid model\n",
    "quantum_model = QuantumNN()\n",
    "quantum_model.compile(optimizer='adam', loss='sparse_categorical_crossentropy', metrics=['accuracy'])\n",
    "\n",
    "print(\"Step 7: Quantum Model Created\")\n",
    "quantum_model.summary()\n"
   ]
  },
  {
   "cell_type": "markdown",
   "id": "f31b9c04-e85b-4a17-ac30-d90edcc9bae1",
   "metadata": {},
   "source": [
    "# Step 8: Training and Validation of Quantum Classifier"
   ]
  },
  {
   "cell_type": "code",
   "execution_count": null,
   "id": "069780e8-931b-4aa8-8575-90201d0310f1",
   "metadata": {},
   "outputs": [],
   "source": [
    "# Train the quantum model\n",
    "quantum_history = quantum_model.fit(X_train, y_train, epochs=10, validation_data=(X_val, y_val), batch_size=32)\n",
    "print(\"Step 8: Quantum Model Trained\")\n",
    "print(\"Quantum Training Accuracy:\", quantum_history.history['accuracy'][-1])\n",
    "print(\"Quantum Validation Accuracy:\", quantum_history.history['val_accuracy'][-1])"
   ]
  },
  {
   "cell_type": "markdown",
   "id": "8d3d66a1-2581-4992-8c9e-2befb1ea09f7",
   "metadata": {},
   "source": [
    "# Step 9: Evaluation of Quantum Classifier"
   ]
  },
  {
   "cell_type": "code",
   "execution_count": null,
   "id": "c9e06caa-4bd6-4bdf-9051-251b006c0db2",
   "metadata": {},
   "outputs": [],
   "source": [
    "# Evaluate the quantum model\n",
    "quantum_y_pred = quantum_model.predict(X_val).argmax(axis=1)\n",
    "quantum_conf_matrix = confusion_matrix(y_val, quantum_y_pred)\n",
    "quantum_class_report = classification_report(y_val, quantum_y_pred)\n",
    "\n",
    "print(\"Step 9: Quantum Model Evaluation\")\n",
    "print(\"Quantum Confusion Matrix:\\n\", quantum_conf_matrix)\n",
    "print(\"Quantum Classification Report:\\n\", quantum_class_report)\n"
   ]
  },
  {
   "cell_type": "code",
   "execution_count": null,
   "id": "a2e78842-6c12-4d3a-adc4-f9fb43142413",
   "metadata": {},
   "outputs": [],
   "source": []
  }
 ],
 "metadata": {
  "kernelspec": {
   "display_name": "Python 3 (ipykernel)",
   "language": "python",
   "name": "python3"
  },
  "language_info": {
   "codemirror_mode": {
    "name": "ipython",
    "version": 3
   },
   "file_extension": ".py",
   "mimetype": "text/x-python",
   "name": "python",
   "nbconvert_exporter": "python",
   "pygments_lexer": "ipython3",
   "version": "3.11.7"
  }
 },
 "nbformat": 4,
 "nbformat_minor": 5
}
